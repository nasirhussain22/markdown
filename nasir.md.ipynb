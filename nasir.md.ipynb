{
 "cells": [
  {
   "cell_type": "markdown",
   "id": "0c0a8ac1-4b65-4881-bdd1-820bd29ec0f4",
   "metadata": {},
   "source": [
    "# CV \n",
    "# Nasir Hussain"
   ]
  },
  {
   "cell_type": "markdown",
   "id": "29f1085d-755a-4a8b-8597-4b0deff53f79",
   "metadata": {},
   "source": [
    "## Contact information:\n",
    "#### Email:       geonasir844@gmail.com                                     \n",
    "#### Mobile No:   03015415922"
   ]
  },
  {
   "cell_type": "markdown",
   "id": "f2810913-4798-4e6e-a146-907f76fa36aa",
   "metadata": {},
   "source": [
    "## Education:\n",
    "#### BS Geology 2014-2018\n",
    "#### university of Swat"
   ]
  },
  {
   "cell_type": "markdown",
   "id": "95b21ccd-dfd3-454c-b490-f2a031c36e34",
   "metadata": {},
   "source": [
    "### Experiences:\n",
    "##### More than 6 years of experience in the construction field as a material testing Lab Technician in different constructions companies and differents projects like Roads, Underpass, Flyover and Buidings."
   ]
  },
  {
   "cell_type": "markdown",
   "id": "b63f3039-1b2f-4ff7-b7cb-3fba83a86d0c",
   "metadata": {},
   "source": [
    "## Major responsibility:\n",
    "##### Documentation Controller\n",
    "##### Quality Control\n",
    "##### Material Testing\n",
    "##### A team player, used to working as a proactive member of a team."
   ]
  },
  {
   "cell_type": "markdown",
   "id": "edaae097-83e7-4f7c-ab39-fbc2a3f3c72f",
   "metadata": {},
   "source": [
    "## Computer Skill:\n",
    "##### MS Office\n",
    "##### Arc GIS\n",
    "##### Programming Languages like python, Html, CSS and JavaScript."
   ]
  },
  {
   "cell_type": "markdown",
   "id": "6b92cc54-81ab-42fc-8da5-d16c59e98e5b",
   "metadata": {},
   "source": [
    "## Languages:\n",
    "##### English\n",
    "##### Urdu\n",
    "##### Pashto"
   ]
  },
  {
   "cell_type": "markdown",
   "id": "4b3822fb-e9f9-485d-9e91-0620bbad9087",
   "metadata": {},
   "source": []
  }
 ],
 "metadata": {
  "kernelspec": {
   "display_name": "Python 3 (ipykernel)",
   "language": "python",
   "name": "python3"
  },
  "language_info": {
   "codemirror_mode": {
    "name": "ipython",
    "version": 3
   },
   "file_extension": ".py",
   "mimetype": "text/x-python",
   "name": "python",
   "nbconvert_exporter": "python",
   "pygments_lexer": "ipython3",
   "version": "3.13.0"
  }
 },
 "nbformat": 4,
 "nbformat_minor": 5
}
